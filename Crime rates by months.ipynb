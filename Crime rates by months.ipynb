{
 "cells": [
  {
   "cell_type": "code",
   "execution_count": 4,
   "metadata": {},
   "outputs": [],
   "source": [
    "%matplotlib notebook"
   ]
  },
  {
   "cell_type": "code",
   "execution_count": 5,
   "metadata": {},
   "outputs": [],
   "source": [
    "import os\n",
    "import csv\n",
    "import pandas as pd\n",
    "import matplotlib.pyplot as plt\n",
    "from datetime import datetime\n",
    "import numpy as np"
   ]
  },
  {
   "cell_type": "code",
   "execution_count": 6,
   "metadata": {},
   "outputs": [],
   "source": [
    "#loading and reading the csv file\n",
    "crimes_csv = \"../toronto-crime-analysis/crimes_csv.csv\"\n",
    "crimes_pd = pd.read_csv(crimes_csv)\n",
    "crimes_pd['occurrencedate'] = pd.to_datetime(crimes_pd['occurrencedate'], unit = 'ms')\n",
    "#crimes_pd['reporteddate'] = pd.to_datetime(crimes_pd['reporteddate'], unit='ms')\n",
    "crimes_pd.head()"
   ]
  },
  {
   "cell_type": "code",
   "execution_count": 7,
   "metadata": {},
   "outputs": [],
   "source": [
    "crime_month_count = crimes_pd.groupby('occurrencemonth').size()\n",
    "crime_month = crime_month_count.to_frame().reset_index()\n",
    "crime_month = crime_month.rename(columns= {0: 'Crime Count',\n",
    "                                           'occurrencemonth': 'Crime Month'\n",
    "                                          })\n",
    "crime_month = crime_month.sort_values(by = ['Crime Count'], ascending = False)\n",
    "crime_month.head(12)"
   ]
  },
  {
   "cell_type": "code",
   "execution_count": 8,
   "metadata": {},
   "outputs": [],
   "source": [
    "plt.bar(crime_month['Crime Month'], crime_month['Crime Count'], color=\"red\")\n",
    "    \n",
    "\n",
    "plt.title('Crime Rates by Months', fontsize = 15)\n",
    "plt.xlabel('Crime Month', fontsize = 13)\n",
    "plt.ylabel('Crime Count', fontsize = 13)\n",
    "plt.savefig('../toronto-crime-analysis/Crime Rates by Months')\n",
    "plt.show()"
   ]
  },
  {
   "cell_type": "code",
   "execution_count": null,
   "metadata": {},
   "outputs": [],
   "source": []
  }
 ],
 "metadata": {
  "kernelspec": {
   "display_name": "Python 3",
   "language": "python",
   "name": "python3"
  },
  "language_info": {
   "codemirror_mode": {
    "name": "ipython",
    "version": 3
   },
   "file_extension": ".py",
   "mimetype": "text/x-python",
   "name": "python",
   "nbconvert_exporter": "python",
   "pygments_lexer": "ipython3",
   "version": "3.6.5"
  }
 },
 "nbformat": 4,
 "nbformat_minor": 2
}
