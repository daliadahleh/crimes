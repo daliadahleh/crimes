{
 "cells": [
  {
   "cell_type": "code",
   "execution_count": 7,
   "metadata": {},
   "outputs": [],
   "source": [
    "import pandas as pd\n",
    "import matplotlib.pyplot as plt\n",
    "import plotly\n",
    "import plotly.plotly as py\n",
    "import plotly.graph_objs as go\n",
    "import requests\n",
    "import json"
   ]
  },
  {
   "cell_type": "code",
   "execution_count": 8,
   "metadata": {},
   "outputs": [],
   "source": [
    "plotly.tools.set_credentials_file(username='wangdian', api_key='DKvDkKjnNZWzlT6zhaCq')\n",
    "mapbox_access_token = 'pk.eyJ1Ijoid2FuZ2RpYW5kaWFuIiwiYSI6ImNqb3JyeWV4czAyeWwzcW85enRyZmp5dm8ifQ.UIVacLewjXi3XRL2XvlsgA'"
   ]
  },
  {
   "cell_type": "code",
   "execution_count": 9,
   "metadata": {},
   "outputs": [
    {
     "data": {
      "text/html": [
       "<div>\n",
       "<style scoped>\n",
       "    .dataframe tbody tr th:only-of-type {\n",
       "        vertical-align: middle;\n",
       "    }\n",
       "\n",
       "    .dataframe tbody tr th {\n",
       "        vertical-align: top;\n",
       "    }\n",
       "\n",
       "    .dataframe thead th {\n",
       "        text-align: right;\n",
       "    }\n",
       "</style>\n",
       "<table border=\"1\" class=\"dataframe\">\n",
       "  <thead>\n",
       "    <tr style=\"text-align: right;\">\n",
       "      <th></th>\n",
       "      <th>X</th>\n",
       "      <th>Y</th>\n",
       "      <th>Index_</th>\n",
       "      <th>event_unique_id</th>\n",
       "      <th>occurrencedate</th>\n",
       "      <th>reporteddate</th>\n",
       "      <th>premisetype</th>\n",
       "      <th>ucr_code</th>\n",
       "      <th>ucr_ext</th>\n",
       "      <th>offence</th>\n",
       "      <th>...</th>\n",
       "      <th>occurrencedayofyear</th>\n",
       "      <th>occurrencedayofweek</th>\n",
       "      <th>occurrencehour</th>\n",
       "      <th>MCI</th>\n",
       "      <th>Division</th>\n",
       "      <th>Hood_ID</th>\n",
       "      <th>Neighbourhood</th>\n",
       "      <th>Lat</th>\n",
       "      <th>Long</th>\n",
       "      <th>FID</th>\n",
       "    </tr>\n",
       "  </thead>\n",
       "  <tbody>\n",
       "    <tr>\n",
       "      <th>0</th>\n",
       "      <td>-79.520401</td>\n",
       "      <td>43.768829</td>\n",
       "      <td>14601</td>\n",
       "      <td>GO-20142775022</td>\n",
       "      <td>2014-08-25T04:00:00.000Z</td>\n",
       "      <td>2014-08-25T04:00:00.000Z</td>\n",
       "      <td>Outside</td>\n",
       "      <td>1430</td>\n",
       "      <td>100</td>\n",
       "      <td>Assault</td>\n",
       "      <td>...</td>\n",
       "      <td>237.0</td>\n",
       "      <td>Monday</td>\n",
       "      <td>18</td>\n",
       "      <td>Assault</td>\n",
       "      <td>D31</td>\n",
       "      <td>24</td>\n",
       "      <td>Black Creek (24)</td>\n",
       "      <td>43.768829</td>\n",
       "      <td>-79.520401</td>\n",
       "      <td>14001</td>\n",
       "    </tr>\n",
       "    <tr>\n",
       "      <th>1</th>\n",
       "      <td>-79.580856</td>\n",
       "      <td>43.642574</td>\n",
       "      <td>14602</td>\n",
       "      <td>GO-20142870874</td>\n",
       "      <td>2014-08-25T04:00:00.000Z</td>\n",
       "      <td>2014-09-08T04:00:00.000Z</td>\n",
       "      <td>House</td>\n",
       "      <td>2120</td>\n",
       "      <td>220</td>\n",
       "      <td>B&amp;E W'Intent</td>\n",
       "      <td>...</td>\n",
       "      <td>237.0</td>\n",
       "      <td>Monday</td>\n",
       "      <td>9</td>\n",
       "      <td>Break and Enter</td>\n",
       "      <td>D22</td>\n",
       "      <td>11</td>\n",
       "      <td>Eringate-Centennial-West Deane (11)</td>\n",
       "      <td>43.642574</td>\n",
       "      <td>-79.580856</td>\n",
       "      <td>14002</td>\n",
       "    </tr>\n",
       "    <tr>\n",
       "      <th>2</th>\n",
       "      <td>-79.260445</td>\n",
       "      <td>43.762909</td>\n",
       "      <td>14603</td>\n",
       "      <td>GO-20142802386</td>\n",
       "      <td>2014-08-25T04:00:00.000Z</td>\n",
       "      <td>2014-08-29T04:00:00.000Z</td>\n",
       "      <td>House</td>\n",
       "      <td>1430</td>\n",
       "      <td>100</td>\n",
       "      <td>Assault</td>\n",
       "      <td>...</td>\n",
       "      <td>237.0</td>\n",
       "      <td>Monday</td>\n",
       "      <td>11</td>\n",
       "      <td>Assault</td>\n",
       "      <td>D41</td>\n",
       "      <td>127</td>\n",
       "      <td>Bendale (127)</td>\n",
       "      <td>43.762909</td>\n",
       "      <td>-79.260445</td>\n",
       "      <td>14003</td>\n",
       "    </tr>\n",
       "    <tr>\n",
       "      <th>3</th>\n",
       "      <td>-79.367546</td>\n",
       "      <td>43.663208</td>\n",
       "      <td>14604</td>\n",
       "      <td>GO-20142777955</td>\n",
       "      <td>2014-08-25T04:00:00.000Z</td>\n",
       "      <td>2014-08-26T04:00:00.000Z</td>\n",
       "      <td>Commercial</td>\n",
       "      <td>2120</td>\n",
       "      <td>200</td>\n",
       "      <td>B&amp;E</td>\n",
       "      <td>...</td>\n",
       "      <td>237.0</td>\n",
       "      <td>Monday</td>\n",
       "      <td>17</td>\n",
       "      <td>Break and Enter</td>\n",
       "      <td>D51</td>\n",
       "      <td>71</td>\n",
       "      <td>Cabbagetown-South St.James Town (71)</td>\n",
       "      <td>43.663208</td>\n",
       "      <td>-79.367546</td>\n",
       "      <td>14004</td>\n",
       "    </tr>\n",
       "    <tr>\n",
       "      <th>4</th>\n",
       "      <td>-79.231758</td>\n",
       "      <td>43.776440</td>\n",
       "      <td>14605</td>\n",
       "      <td>GO-20142778699</td>\n",
       "      <td>2014-08-25T04:00:00.000Z</td>\n",
       "      <td>2014-08-26T04:00:00.000Z</td>\n",
       "      <td>Other</td>\n",
       "      <td>2120</td>\n",
       "      <td>200</td>\n",
       "      <td>B&amp;E</td>\n",
       "      <td>...</td>\n",
       "      <td>237.0</td>\n",
       "      <td>Monday</td>\n",
       "      <td>16</td>\n",
       "      <td>Break and Enter</td>\n",
       "      <td>D43</td>\n",
       "      <td>137</td>\n",
       "      <td>Woburn (137)</td>\n",
       "      <td>43.776440</td>\n",
       "      <td>-79.231758</td>\n",
       "      <td>14005</td>\n",
       "    </tr>\n",
       "  </tbody>\n",
       "</table>\n",
       "<p>5 rows × 29 columns</p>\n",
       "</div>"
      ],
      "text/plain": [
       "           X          Y  Index_ event_unique_id            occurrencedate  \\\n",
       "0 -79.520401  43.768829   14601  GO-20142775022  2014-08-25T04:00:00.000Z   \n",
       "1 -79.580856  43.642574   14602  GO-20142870874  2014-08-25T04:00:00.000Z   \n",
       "2 -79.260445  43.762909   14603  GO-20142802386  2014-08-25T04:00:00.000Z   \n",
       "3 -79.367546  43.663208   14604  GO-20142777955  2014-08-25T04:00:00.000Z   \n",
       "4 -79.231758  43.776440   14605  GO-20142778699  2014-08-25T04:00:00.000Z   \n",
       "\n",
       "               reporteddate premisetype  ucr_code  ucr_ext       offence  \\\n",
       "0  2014-08-25T04:00:00.000Z     Outside      1430      100       Assault   \n",
       "1  2014-09-08T04:00:00.000Z       House      2120      220  B&E W'Intent   \n",
       "2  2014-08-29T04:00:00.000Z       House      1430      100       Assault   \n",
       "3  2014-08-26T04:00:00.000Z  Commercial      2120      200           B&E   \n",
       "4  2014-08-26T04:00:00.000Z       Other      2120      200           B&E   \n",
       "\n",
       "   ...    occurrencedayofyear occurrencedayofweek  occurrencehour  \\\n",
       "0  ...                  237.0          Monday                  18   \n",
       "1  ...                  237.0          Monday                   9   \n",
       "2  ...                  237.0          Monday                  11   \n",
       "3  ...                  237.0          Monday                  17   \n",
       "4  ...                  237.0          Monday                  16   \n",
       "\n",
       "               MCI Division  Hood_ID                         Neighbourhood  \\\n",
       "0          Assault      D31       24                      Black Creek (24)   \n",
       "1  Break and Enter      D22       11   Eringate-Centennial-West Deane (11)   \n",
       "2          Assault      D41      127                         Bendale (127)   \n",
       "3  Break and Enter      D51       71  Cabbagetown-South St.James Town (71)   \n",
       "4  Break and Enter      D43      137                          Woburn (137)   \n",
       "\n",
       "         Lat       Long    FID  \n",
       "0  43.768829 -79.520401  14001  \n",
       "1  43.642574 -79.580856  14002  \n",
       "2  43.762909 -79.260445  14003  \n",
       "3  43.663208 -79.367546  14004  \n",
       "4  43.776440 -79.231758  14005  \n",
       "\n",
       "[5 rows x 29 columns]"
      ]
     },
     "execution_count": 9,
     "metadata": {},
     "output_type": "execute_result"
    }
   ],
   "source": [
    "# map plot location\n",
    "path = 'data/MCI_2014_to_2017.csv'\n",
    "\n",
    "df = pd.read_csv(path)\n",
    "df.head()"
   ]
  },
  {
   "cell_type": "code",
   "execution_count": 10,
   "metadata": {},
   "outputs": [],
   "source": [
    "df = df.sort_values(by=['Hood_ID'])\n",
    "x = df.loc[df['Hood_ID'] == 1]['X'].mean()"
   ]
  },
  {
   "cell_type": "code",
   "execution_count": 11,
   "metadata": {},
   "outputs": [],
   "source": [
    "map_id_dict = {\n",
    "    'hood_id': df['Hood_ID'].unique(),\n",
    "    'lon': df.groupby('Hood_ID')['X'].mean(),\n",
    "    'lan': df.groupby('Hood_ID')['Y'].mean(),\n",
    "    'neighbourhood': df.groupby('Hood_ID')['Neighbourhood'].unique()\n",
    "}\n",
    "\n",
    "map_id_df = pd.DataFrame(map_id_dict, index=map_id_dict['hood_id'])"
   ]
  },
  {
   "cell_type": "code",
   "execution_count": 12,
   "metadata": {},
   "outputs": [
    {
     "data": {
      "text/html": [
       "<div>\n",
       "<style scoped>\n",
       "    .dataframe tbody tr th:only-of-type {\n",
       "        vertical-align: middle;\n",
       "    }\n",
       "\n",
       "    .dataframe tbody tr th {\n",
       "        vertical-align: top;\n",
       "    }\n",
       "\n",
       "    .dataframe thead th {\n",
       "        text-align: right;\n",
       "    }\n",
       "</style>\n",
       "<table border=\"1\" class=\"dataframe\">\n",
       "  <thead>\n",
       "    <tr style=\"text-align: right;\">\n",
       "      <th></th>\n",
       "      <th>hood_id</th>\n",
       "      <th>lon</th>\n",
       "      <th>lan</th>\n",
       "      <th>neighbourhood</th>\n",
       "    </tr>\n",
       "  </thead>\n",
       "  <tbody>\n",
       "    <tr>\n",
       "      <th>1</th>\n",
       "      <td>1</td>\n",
       "      <td>-79.598015</td>\n",
       "      <td>43.719981</td>\n",
       "      <td>[West Humber-Clairville (1)]</td>\n",
       "    </tr>\n",
       "    <tr>\n",
       "      <th>2</th>\n",
       "      <td>2</td>\n",
       "      <td>-79.588351</td>\n",
       "      <td>43.745059</td>\n",
       "      <td>[Mount Olive-Silverstone-Jamestown (2)]</td>\n",
       "    </tr>\n",
       "    <tr>\n",
       "      <th>3</th>\n",
       "      <td>3</td>\n",
       "      <td>-79.568820</td>\n",
       "      <td>43.738668</td>\n",
       "      <td>[Thistletown-Beaumond Heights (3)]</td>\n",
       "    </tr>\n",
       "    <tr>\n",
       "      <th>4</th>\n",
       "      <td>4</td>\n",
       "      <td>-79.566224</td>\n",
       "      <td>43.720970</td>\n",
       "      <td>[Rexdale-Kipling (4)]</td>\n",
       "    </tr>\n",
       "    <tr>\n",
       "      <th>5</th>\n",
       "      <td>5</td>\n",
       "      <td>-79.551941</td>\n",
       "      <td>43.720902</td>\n",
       "      <td>[Elms-Old Rexdale (5)]</td>\n",
       "    </tr>\n",
       "  </tbody>\n",
       "</table>\n",
       "</div>"
      ],
      "text/plain": [
       "   hood_id        lon        lan                            neighbourhood\n",
       "1        1 -79.598015  43.719981             [West Humber-Clairville (1)]\n",
       "2        2 -79.588351  43.745059  [Mount Olive-Silverstone-Jamestown (2)]\n",
       "3        3 -79.568820  43.738668       [Thistletown-Beaumond Heights (3)]\n",
       "4        4 -79.566224  43.720970                    [Rexdale-Kipling (4)]\n",
       "5        5 -79.551941  43.720902                   [Elms-Old Rexdale (5)]"
      ]
     },
     "execution_count": 12,
     "metadata": {},
     "output_type": "execute_result"
    }
   ],
   "source": [
    "map_id_df.head()"
   ]
  },
  {
   "cell_type": "code",
   "execution_count": 13,
   "metadata": {},
   "outputs": [
    {
     "data": {
      "text/html": [
       "<div>\n",
       "<style scoped>\n",
       "    .dataframe tbody tr th:only-of-type {\n",
       "        vertical-align: middle;\n",
       "    }\n",
       "\n",
       "    .dataframe tbody tr th {\n",
       "        vertical-align: top;\n",
       "    }\n",
       "\n",
       "    .dataframe thead th {\n",
       "        text-align: right;\n",
       "    }\n",
       "</style>\n",
       "<table border=\"1\" class=\"dataframe\">\n",
       "  <thead>\n",
       "    <tr style=\"text-align: right;\">\n",
       "      <th></th>\n",
       "      <th>hood_id</th>\n",
       "      <th>total_crime</th>\n",
       "    </tr>\n",
       "  </thead>\n",
       "  <tbody>\n",
       "    <tr>\n",
       "      <th>0</th>\n",
       "      <td>1</td>\n",
       "      <td>3264</td>\n",
       "    </tr>\n",
       "    <tr>\n",
       "      <th>1</th>\n",
       "      <td>2</td>\n",
       "      <td>1806</td>\n",
       "    </tr>\n",
       "    <tr>\n",
       "      <th>2</th>\n",
       "      <td>3</td>\n",
       "      <td>475</td>\n",
       "    </tr>\n",
       "    <tr>\n",
       "      <th>3</th>\n",
       "      <td>4</td>\n",
       "      <td>509</td>\n",
       "    </tr>\n",
       "    <tr>\n",
       "      <th>4</th>\n",
       "      <td>5</td>\n",
       "      <td>444</td>\n",
       "    </tr>\n",
       "  </tbody>\n",
       "</table>\n",
       "</div>"
      ],
      "text/plain": [
       "   hood_id  total_crime\n",
       "0        1         3264\n",
       "1        2         1806\n",
       "2        3          475\n",
       "3        4          509\n",
       "4        5          444"
      ]
     },
     "execution_count": 13,
     "metadata": {},
     "output_type": "execute_result"
    }
   ],
   "source": [
    "# total crime\n",
    "path = 'data/crime_totals_per_hood.csv'\n",
    "\n",
    "crime_total_df = pd.read_csv(path, header=None)\n",
    "crime_total_df.columns = ['hood_id', 'total_crime']\n",
    "crime_total_df.head()"
   ]
  },
  {
   "cell_type": "code",
   "execution_count": 14,
   "metadata": {},
   "outputs": [
    {
     "data": {
      "text/html": [
       "<div>\n",
       "<style scoped>\n",
       "    .dataframe tbody tr th:only-of-type {\n",
       "        vertical-align: middle;\n",
       "    }\n",
       "\n",
       "    .dataframe tbody tr th {\n",
       "        vertical-align: top;\n",
       "    }\n",
       "\n",
       "    .dataframe thead th {\n",
       "        text-align: right;\n",
       "    }\n",
       "</style>\n",
       "<table border=\"1\" class=\"dataframe\">\n",
       "  <thead>\n",
       "    <tr style=\"text-align: right;\">\n",
       "      <th></th>\n",
       "      <th>hood_id</th>\n",
       "      <th>total_crime</th>\n",
       "      <th>lon</th>\n",
       "      <th>lan</th>\n",
       "      <th>neighbourhood</th>\n",
       "    </tr>\n",
       "  </thead>\n",
       "  <tbody>\n",
       "    <tr>\n",
       "      <th>0</th>\n",
       "      <td>1</td>\n",
       "      <td>3264</td>\n",
       "      <td>-79.598015</td>\n",
       "      <td>43.719981</td>\n",
       "      <td>[West Humber-Clairville (1)]</td>\n",
       "    </tr>\n",
       "    <tr>\n",
       "      <th>1</th>\n",
       "      <td>2</td>\n",
       "      <td>1806</td>\n",
       "      <td>-79.588351</td>\n",
       "      <td>43.745059</td>\n",
       "      <td>[Mount Olive-Silverstone-Jamestown (2)]</td>\n",
       "    </tr>\n",
       "    <tr>\n",
       "      <th>2</th>\n",
       "      <td>3</td>\n",
       "      <td>475</td>\n",
       "      <td>-79.568820</td>\n",
       "      <td>43.738668</td>\n",
       "      <td>[Thistletown-Beaumond Heights (3)]</td>\n",
       "    </tr>\n",
       "    <tr>\n",
       "      <th>3</th>\n",
       "      <td>4</td>\n",
       "      <td>509</td>\n",
       "      <td>-79.566224</td>\n",
       "      <td>43.720970</td>\n",
       "      <td>[Rexdale-Kipling (4)]</td>\n",
       "    </tr>\n",
       "    <tr>\n",
       "      <th>4</th>\n",
       "      <td>5</td>\n",
       "      <td>444</td>\n",
       "      <td>-79.551941</td>\n",
       "      <td>43.720902</td>\n",
       "      <td>[Elms-Old Rexdale (5)]</td>\n",
       "    </tr>\n",
       "  </tbody>\n",
       "</table>\n",
       "</div>"
      ],
      "text/plain": [
       "   hood_id  total_crime        lon        lan  \\\n",
       "0        1         3264 -79.598015  43.719981   \n",
       "1        2         1806 -79.588351  43.745059   \n",
       "2        3          475 -79.568820  43.738668   \n",
       "3        4          509 -79.566224  43.720970   \n",
       "4        5          444 -79.551941  43.720902   \n",
       "\n",
       "                             neighbourhood  \n",
       "0             [West Humber-Clairville (1)]  \n",
       "1  [Mount Olive-Silverstone-Jamestown (2)]  \n",
       "2       [Thistletown-Beaumond Heights (3)]  \n",
       "3                    [Rexdale-Kipling (4)]  \n",
       "4                   [Elms-Old Rexdale (5)]  "
      ]
     },
     "execution_count": 14,
     "metadata": {},
     "output_type": "execute_result"
    }
   ],
   "source": [
    "crime_total_df = crime_total_df.merge(map_id_df, on='hood_id', how='outer' )\n",
    "crime_total_df.head()"
   ]
  },
  {
   "cell_type": "code",
   "execution_count": 15,
   "metadata": {},
   "outputs": [
    {
     "data": {
      "text/html": [
       "<iframe id=\"igraph\" scrolling=\"no\" style=\"border:none;\" seamless=\"seamless\" src=\"https://plot.ly/~wangdian/2.embed\" height=\"525px\" width=\"100%\"></iframe>"
      ],
      "text/plain": [
       "<plotly.tools.PlotlyDisplay object>"
      ]
     },
     "execution_count": 15,
     "metadata": {},
     "output_type": "execute_result"
    }
   ],
   "source": [
    "crime_total_map_plot = []\n",
    "for index, row in crime_total_df.iterrows():\n",
    "    \n",
    "    data = go.Scattermapbox(\n",
    "            lat=[str(row['lan'])],\n",
    "            lon=[str(row['lon'])],\n",
    "            mode='markers',\n",
    "            marker=dict(\n",
    "                size=0.02 * row['total_crime'],\n",
    "                opacity= 0.7,\n",
    "                color = 'rgb(17, 157, 255)'\n",
    "            ),\n",
    "            \n",
    "            name=row['neighbourhood'][0],\n",
    "            text=row['neighbourhood'][0] # pending disctrict name\n",
    "        )\n",
    "    \n",
    "    crime_total_map_plot.append(data)\n",
    "    \n",
    "layout = go.Layout(\n",
    "    autosize=True,\n",
    "    hovermode='closest',\n",
    "    mapbox=dict(\n",
    "        accesstoken=mapbox_access_token,\n",
    "        bearing=0,\n",
    "        center=dict(\n",
    "            lat=43.7,\n",
    "            lon=-79.5\n",
    "        ),\n",
    "        pitch=0,\n",
    "        zoom=10\n",
    "    ),\n",
    ")\n",
    "\n",
    "fig = dict(data=crime_total_map_plot, layout=layout)\n",
    "\n",
    "py.iplot(fig, filename='Toronto Crime')"
   ]
  },
  {
   "cell_type": "code",
   "execution_count": 16,
   "metadata": {},
   "outputs": [],
   "source": [
    "#\n",
    "crime_path_3 = 'data/out.csv'\n",
    "\n",
    "crime_accnum_df = pd.read_csv(crime_path_3)"
   ]
  },
  {
   "cell_type": "code",
   "execution_count": 17,
   "metadata": {},
   "outputs": [
    {
     "data": {
      "text/html": [
       "<div>\n",
       "<style scoped>\n",
       "    .dataframe tbody tr th:only-of-type {\n",
       "        vertical-align: middle;\n",
       "    }\n",
       "\n",
       "    .dataframe tbody tr th {\n",
       "        vertical-align: top;\n",
       "    }\n",
       "\n",
       "    .dataframe thead th {\n",
       "        text-align: right;\n",
       "    }\n",
       "</style>\n",
       "<table border=\"1\" class=\"dataframe\">\n",
       "  <thead>\n",
       "    <tr style=\"text-align: right;\">\n",
       "      <th></th>\n",
       "      <th>hood_id</th>\n",
       "      <th>accnum</th>\n",
       "      <th>lon</th>\n",
       "      <th>lan</th>\n",
       "      <th>neighbourhood</th>\n",
       "    </tr>\n",
       "  </thead>\n",
       "  <tbody>\n",
       "    <tr>\n",
       "      <th>0</th>\n",
       "      <td>1.0</td>\n",
       "      <td>427</td>\n",
       "      <td>-79.598015</td>\n",
       "      <td>43.719981</td>\n",
       "      <td>[West Humber-Clairville (1)]</td>\n",
       "    </tr>\n",
       "    <tr>\n",
       "      <th>1</th>\n",
       "      <td>2.0</td>\n",
       "      <td>106</td>\n",
       "      <td>-79.588351</td>\n",
       "      <td>43.745059</td>\n",
       "      <td>[Mount Olive-Silverstone-Jamestown (2)]</td>\n",
       "    </tr>\n",
       "    <tr>\n",
       "      <th>2</th>\n",
       "      <td>3.0</td>\n",
       "      <td>82</td>\n",
       "      <td>-79.568820</td>\n",
       "      <td>43.738668</td>\n",
       "      <td>[Thistletown-Beaumond Heights (3)]</td>\n",
       "    </tr>\n",
       "    <tr>\n",
       "      <th>3</th>\n",
       "      <td>4.0</td>\n",
       "      <td>74</td>\n",
       "      <td>-79.566224</td>\n",
       "      <td>43.720970</td>\n",
       "      <td>[Rexdale-Kipling (4)]</td>\n",
       "    </tr>\n",
       "    <tr>\n",
       "      <th>4</th>\n",
       "      <td>5.0</td>\n",
       "      <td>19</td>\n",
       "      <td>-79.551941</td>\n",
       "      <td>43.720902</td>\n",
       "      <td>[Elms-Old Rexdale (5)]</td>\n",
       "    </tr>\n",
       "  </tbody>\n",
       "</table>\n",
       "</div>"
      ],
      "text/plain": [
       "   hood_id  accnum        lon        lan  \\\n",
       "0      1.0     427 -79.598015  43.719981   \n",
       "1      2.0     106 -79.588351  43.745059   \n",
       "2      3.0      82 -79.568820  43.738668   \n",
       "3      4.0      74 -79.566224  43.720970   \n",
       "4      5.0      19 -79.551941  43.720902   \n",
       "\n",
       "                             neighbourhood  \n",
       "0             [West Humber-Clairville (1)]  \n",
       "1  [Mount Olive-Silverstone-Jamestown (2)]  \n",
       "2       [Thistletown-Beaumond Heights (3)]  \n",
       "3                    [Rexdale-Kipling (4)]  \n",
       "4                   [Elms-Old Rexdale (5)]  "
      ]
     },
     "execution_count": 17,
     "metadata": {},
     "output_type": "execute_result"
    }
   ],
   "source": [
    "crime_accnum_df = crime_accnum_df.merge(map_id_df, on='hood_id', how='outer')\n",
    "crime_accnum_df.head()"
   ]
  },
  {
   "cell_type": "code",
   "execution_count": 18,
   "metadata": {},
   "outputs": [
    {
     "data": {
      "text/html": [
       "<iframe id=\"igraph\" scrolling=\"no\" style=\"border:none;\" seamless=\"seamless\" src=\"https://plot.ly/~wangdian/4.embed\" height=\"525px\" width=\"100%\"></iframe>"
      ],
      "text/plain": [
       "<plotly.tools.PlotlyDisplay object>"
      ]
     },
     "execution_count": 18,
     "metadata": {},
     "output_type": "execute_result"
    }
   ],
   "source": [
    "# create data for crime_accnum_map_plot\n",
    "crime_accnum_map_plot = []\n",
    "for index, row in crime_accnum_df.iterrows():\n",
    "    \n",
    "    data = go.Scattermapbox(\n",
    "            lat=[str(row['lan'])],\n",
    "            lon=[str(row['lon'])],\n",
    "            mode='markers',\n",
    "            marker=dict(\n",
    "                size=0.2 * row['accnum'],\n",
    "                opacity= 0.7,\n",
    "                color = 'coral'\n",
    "            ),\n",
    "            \n",
    "            name=row['neighbourhood'][0],\n",
    "            text=row['neighbourhood'][0] # pending disctrict name\n",
    "        )\n",
    "    \n",
    "    crime_accnum_map_plot.append(data)\n",
    "    \n",
    "\n",
    "fig = dict(data=crime_accnum_map_plot, layout=layout)\n",
    "\n",
    "py.iplot(fig, filename='Toronto Accnum')"
   ]
  },
  {
   "cell_type": "code",
   "execution_count": 19,
   "metadata": {},
   "outputs": [
    {
     "data": {
      "text/plain": [
       "Assault            71440\n",
       "Break and Enter    27353\n",
       "Robbery            14591\n",
       "Auto Theft         13480\n",
       "Theft Over          4209\n",
       "Name: MCI, dtype: int64"
      ]
     },
     "execution_count": 19,
     "metadata": {},
     "output_type": "execute_result"
    }
   ],
   "source": [
    "df['MCI'].value_counts()"
   ]
  },
  {
   "cell_type": "code",
   "execution_count": 20,
   "metadata": {},
   "outputs": [],
   "source": [
    "mci_color_map = {\n",
    "    'Assault': 'coral',\n",
    "    'Auto Theft': 'gold',\n",
    "    'Break and Enter': 'blue',\n",
    "    'Theft Over': 'purple',\n",
    "    'Robbery': 'green'\n",
    "}"
   ]
  },
  {
   "cell_type": "code",
   "execution_count": 21,
   "metadata": {},
   "outputs": [],
   "source": [
    "theft_over_df = df.loc[df['MCI'] == 'Theft Over']"
   ]
  },
  {
   "cell_type": "code",
   "execution_count": 22,
   "metadata": {},
   "outputs": [
    {
     "data": {
      "text/html": [
       "<div>\n",
       "<style scoped>\n",
       "    .dataframe tbody tr th:only-of-type {\n",
       "        vertical-align: middle;\n",
       "    }\n",
       "\n",
       "    .dataframe tbody tr th {\n",
       "        vertical-align: top;\n",
       "    }\n",
       "\n",
       "    .dataframe thead th {\n",
       "        text-align: right;\n",
       "    }\n",
       "</style>\n",
       "<table border=\"1\" class=\"dataframe\">\n",
       "  <thead>\n",
       "    <tr style=\"text-align: right;\">\n",
       "      <th></th>\n",
       "      <th>X</th>\n",
       "      <th>Y</th>\n",
       "      <th>premisetype</th>\n",
       "      <th>Neighbourhood</th>\n",
       "    </tr>\n",
       "  </thead>\n",
       "  <tbody>\n",
       "    <tr>\n",
       "      <th>89157</th>\n",
       "      <td>-79.570541</td>\n",
       "      <td>43.697189</td>\n",
       "      <td>Commercial</td>\n",
       "      <td>West Humber-Clairville (1)</td>\n",
       "    </tr>\n",
       "    <tr>\n",
       "      <th>89311</th>\n",
       "      <td>-79.614281</td>\n",
       "      <td>43.745495</td>\n",
       "      <td>Commercial</td>\n",
       "      <td>West Humber-Clairville (1)</td>\n",
       "    </tr>\n",
       "    <tr>\n",
       "      <th>88048</th>\n",
       "      <td>-79.597366</td>\n",
       "      <td>43.690762</td>\n",
       "      <td>Commercial</td>\n",
       "      <td>West Humber-Clairville (1)</td>\n",
       "    </tr>\n",
       "    <tr>\n",
       "      <th>87060</th>\n",
       "      <td>-79.570580</td>\n",
       "      <td>43.691063</td>\n",
       "      <td>Commercial</td>\n",
       "      <td>West Humber-Clairville (1)</td>\n",
       "    </tr>\n",
       "    <tr>\n",
       "      <th>93960</th>\n",
       "      <td>-79.598656</td>\n",
       "      <td>43.693562</td>\n",
       "      <td>Commercial</td>\n",
       "      <td>West Humber-Clairville (1)</td>\n",
       "    </tr>\n",
       "  </tbody>\n",
       "</table>\n",
       "</div>"
      ],
      "text/plain": [
       "               X          Y premisetype               Neighbourhood\n",
       "89157 -79.570541  43.697189  Commercial  West Humber-Clairville (1)\n",
       "89311 -79.614281  43.745495  Commercial  West Humber-Clairville (1)\n",
       "88048 -79.597366  43.690762  Commercial  West Humber-Clairville (1)\n",
       "87060 -79.570580  43.691063  Commercial  West Humber-Clairville (1)\n",
       "93960 -79.598656  43.693562  Commercial  West Humber-Clairville (1)"
      ]
     },
     "execution_count": 22,
     "metadata": {},
     "output_type": "execute_result"
    }
   ],
   "source": [
    "theft_over_2017 = theft_over_df.loc[theft_over_df['reportedyear'] == 2017]\n",
    "theft_over_2017_final = theft_over_2017[['X', 'Y', 'premisetype', 'Neighbourhood']]\n",
    "theft_over_2017_commercial = theft_over_2017_final.loc[theft_over_2017_final['premisetype'] == 'Commercial']\n",
    "theft_over_2017_commercial.head()"
   ]
  },
  {
   "cell_type": "code",
   "execution_count": 23,
   "metadata": {},
   "outputs": [
    {
     "data": {
      "text/plain": [
       "Commercial    395\n",
       "Outside       283\n",
       "House         217\n",
       "Apartment     185\n",
       "Other          88\n",
       "Name: premisetype, dtype: int64"
      ]
     },
     "execution_count": 23,
     "metadata": {},
     "output_type": "execute_result"
    }
   ],
   "source": [
    "theft_over_2017_final['premisetype'].value_counts()"
   ]
  },
  {
   "cell_type": "code",
   "execution_count": 24,
   "metadata": {},
   "outputs": [
    {
     "data": {
      "text/html": [
       "<div>\n",
       "<style scoped>\n",
       "    .dataframe tbody tr th:only-of-type {\n",
       "        vertical-align: middle;\n",
       "    }\n",
       "\n",
       "    .dataframe tbody tr th {\n",
       "        vertical-align: top;\n",
       "    }\n",
       "\n",
       "    .dataframe thead th {\n",
       "        text-align: right;\n",
       "    }\n",
       "</style>\n",
       "<table border=\"1\" class=\"dataframe\">\n",
       "  <thead>\n",
       "    <tr style=\"text-align: right;\">\n",
       "      <th></th>\n",
       "      <th>X</th>\n",
       "      <th>Y</th>\n",
       "      <th>premisetype</th>\n",
       "      <th>Neighbourhood</th>\n",
       "    </tr>\n",
       "    <tr>\n",
       "      <th>premisetype</th>\n",
       "      <th></th>\n",
       "      <th></th>\n",
       "      <th></th>\n",
       "      <th></th>\n",
       "    </tr>\n",
       "  </thead>\n",
       "  <tbody>\n",
       "    <tr>\n",
       "      <th>House</th>\n",
       "      <td>-79.620079</td>\n",
       "      <td>43.722992</td>\n",
       "      <td>House</td>\n",
       "      <td>West Humber-Clairville (1)</td>\n",
       "    </tr>\n",
       "    <tr>\n",
       "      <th>House</th>\n",
       "      <td>-79.618431</td>\n",
       "      <td>43.719708</td>\n",
       "      <td>House</td>\n",
       "      <td>West Humber-Clairville (1)</td>\n",
       "    </tr>\n",
       "    <tr>\n",
       "      <th>House</th>\n",
       "      <td>-79.618431</td>\n",
       "      <td>43.719708</td>\n",
       "      <td>House</td>\n",
       "      <td>West Humber-Clairville (1)</td>\n",
       "    </tr>\n",
       "    <tr>\n",
       "      <th>House</th>\n",
       "      <td>-79.553352</td>\n",
       "      <td>43.740631</td>\n",
       "      <td>House</td>\n",
       "      <td>Thistletown-Beaumond Heights (3)</td>\n",
       "    </tr>\n",
       "    <tr>\n",
       "      <th>House</th>\n",
       "      <td>-79.572472</td>\n",
       "      <td>43.728905</td>\n",
       "      <td>House</td>\n",
       "      <td>Rexdale-Kipling (4)</td>\n",
       "    </tr>\n",
       "  </tbody>\n",
       "</table>\n",
       "</div>"
      ],
      "text/plain": [
       "                     X          Y premisetype  \\\n",
       "premisetype                                     \n",
       "House       -79.620079  43.722992       House   \n",
       "House       -79.618431  43.719708       House   \n",
       "House       -79.618431  43.719708       House   \n",
       "House       -79.553352  43.740631       House   \n",
       "House       -79.572472  43.728905       House   \n",
       "\n",
       "                                Neighbourhood  \n",
       "premisetype                                    \n",
       "House              West Humber-Clairville (1)  \n",
       "House              West Humber-Clairville (1)  \n",
       "House              West Humber-Clairville (1)  \n",
       "House        Thistletown-Beaumond Heights (3)  \n",
       "House                     Rexdale-Kipling (4)  "
      ]
     },
     "execution_count": 24,
     "metadata": {},
     "output_type": "execute_result"
    }
   ],
   "source": [
    "theft_over_2017_final.index = theft_over_2017_final['premisetype']\n",
    "theft_over_2017_indoor = theft_over_2017_final.loc[['House', 'Apartment']]\n",
    "theft_over_2017_indoor.head()"
   ]
  },
  {
   "cell_type": "code",
   "execution_count": 25,
   "metadata": {},
   "outputs": [],
   "source": [
    "theft_2017_commercial_data = []\n",
    "\n",
    "for index, row in theft_over_2017_commercial.iterrows():\n",
    "    \n",
    "    data = go.Scattermapbox(\n",
    "            lat=[str(row['Y'])],\n",
    "            lon=[str(row['X'])],\n",
    "            mode='markers',\n",
    "            marker=dict(\n",
    "                size=8,\n",
    "                opacity= 0.7,\n",
    "                color = 'coral'\n",
    "            ),\n",
    "            \n",
    "            name=row['Neighbourhood'],\n",
    "            text=row['Neighbourhood'] # pending disctrict name\n",
    "        )\n",
    "    \n",
    "    theft_2017_commercial_data.append(data)"
   ]
  },
  {
   "cell_type": "code",
   "execution_count": 26,
   "metadata": {},
   "outputs": [
    {
     "data": {
      "text/html": [
       "<iframe id=\"igraph\" scrolling=\"no\" style=\"border:none;\" seamless=\"seamless\" src=\"https://plot.ly/~wangdian/8.embed\" height=\"525px\" width=\"100%\"></iframe>"
      ],
      "text/plain": [
       "<plotly.tools.PlotlyDisplay object>"
      ]
     },
     "execution_count": 26,
     "metadata": {},
     "output_type": "execute_result"
    }
   ],
   "source": [
    "fig = dict(data=theft_2017_commercial_data, layout=layout)\n",
    "\n",
    "py.iplot(fig, filename='Toronto Theft Over Plot 2017 Commercial')"
   ]
  },
  {
   "cell_type": "code",
   "execution_count": 27,
   "metadata": {},
   "outputs": [],
   "source": [
    "# indoor theft 2017\n",
    "theft_2017_indoor_data = []\n",
    "\n",
    "for index, row in theft_over_2017_indoor.iterrows():\n",
    "    \n",
    "    data = go.Scattermapbox(\n",
    "            lat=[str(row['Y'])],\n",
    "            lon=[str(row['X'])],\n",
    "            mode='markers',\n",
    "            marker=dict(\n",
    "                size=8,\n",
    "                opacity= 0.7,\n",
    "                color = 'purple'\n",
    "            ),\n",
    "            \n",
    "            name=row['Neighbourhood'],\n",
    "            text=row['Neighbourhood'] # pending disctrict name\n",
    "        )\n",
    "    \n",
    "    theft_2017_indoor_data.append(data)"
   ]
  },
  {
   "cell_type": "code",
   "execution_count": 28,
   "metadata": {},
   "outputs": [
    {
     "data": {
      "text/html": [
       "<iframe id=\"igraph\" scrolling=\"no\" style=\"border:none;\" seamless=\"seamless\" src=\"https://plot.ly/~wangdian/10.embed\" height=\"525px\" width=\"100%\"></iframe>"
      ],
      "text/plain": [
       "<plotly.tools.PlotlyDisplay object>"
      ]
     },
     "execution_count": 28,
     "metadata": {},
     "output_type": "execute_result"
    }
   ],
   "source": [
    "fig = dict(data=theft_2017_indoor_data, layout=layout)\n",
    "\n",
    "py.iplot(fig, filename='Toronto Theft Over Plot 2017 Indoor')"
   ]
  },
  {
   "cell_type": "code",
   "execution_count": 29,
   "metadata": {},
   "outputs": [],
   "source": [
    "theft_over_2017_outdoor = theft_over_2017_final.loc[['Outside']]"
   ]
  },
  {
   "cell_type": "code",
   "execution_count": 30,
   "metadata": {},
   "outputs": [],
   "source": [
    "# outside theft 2017\n",
    "theft_2017_outdoor_data = []\n",
    "\n",
    "for index, row in theft_over_2017_outdoor.iterrows():\n",
    "    \n",
    "    data = go.Scattermapbox(\n",
    "            lat=[str(row['Y'])],\n",
    "            lon=[str(row['X'])],\n",
    "            mode='markers',\n",
    "            marker=dict(\n",
    "                size=8,\n",
    "                opacity= 0.5,\n",
    "                color = 'black'\n",
    "            ),\n",
    "            \n",
    "            name=row['Neighbourhood'],\n",
    "            text=row['Neighbourhood'] # pending disctrict name\n",
    "        )\n",
    "    \n",
    "    theft_2017_outdoor_data.append(data)"
   ]
  },
  {
   "cell_type": "code",
   "execution_count": 31,
   "metadata": {},
   "outputs": [
    {
     "data": {
      "text/html": [
       "<iframe id=\"igraph\" scrolling=\"no\" style=\"border:none;\" seamless=\"seamless\" src=\"https://plot.ly/~wangdian/12.embed\" height=\"525px\" width=\"100%\"></iframe>"
      ],
      "text/plain": [
       "<plotly.tools.PlotlyDisplay object>"
      ]
     },
     "execution_count": 31,
     "metadata": {},
     "output_type": "execute_result"
    }
   ],
   "source": [
    "fig = dict(data=theft_2017_outdoor_data, layout=layout)\n",
    "\n",
    "py.iplot(fig, filename='Toronto Theft Over Plot 2017 Outside')"
   ]
  },
  {
   "cell_type": "code",
   "execution_count": 32,
   "metadata": {},
   "outputs": [],
   "source": [
    "theft_over_2017_other = theft_over_2017_final.loc[['Other']]"
   ]
  },
  {
   "cell_type": "code",
   "execution_count": 33,
   "metadata": {},
   "outputs": [],
   "source": [
    "# other theft 2017\n",
    "theft_2017_other_data = []\n",
    "\n",
    "for index, row in theft_over_2017_other.iterrows():\n",
    "    \n",
    "    data = go.Scattermapbox(\n",
    "            lat=[str(row['Y'])],\n",
    "            lon=[str(row['X'])],\n",
    "            mode='markers',\n",
    "            marker=dict(\n",
    "                size=8,\n",
    "                opacity= 0.6,\n",
    "                color = 'blue'\n",
    "            ),\n",
    "            \n",
    "            name=row['Neighbourhood'],\n",
    "            text=row['Neighbourhood'] # pending disctrict name\n",
    "        )\n",
    "    \n",
    "    theft_2017_other_data.append(data)"
   ]
  },
  {
   "cell_type": "code",
   "execution_count": 34,
   "metadata": {},
   "outputs": [
    {
     "data": {
      "text/html": [
       "<iframe id=\"igraph\" scrolling=\"no\" style=\"border:none;\" seamless=\"seamless\" src=\"https://plot.ly/~wangdian/14.embed\" height=\"525px\" width=\"100%\"></iframe>"
      ],
      "text/plain": [
       "<plotly.tools.PlotlyDisplay object>"
      ]
     },
     "execution_count": 34,
     "metadata": {},
     "output_type": "execute_result"
    }
   ],
   "source": [
    "fig = dict(data=theft_2017_other_data, layout=layout)\n",
    "py.iplot(fig, filename='Toronto Theft Over Plot 2017 other')"
   ]
  },
  {
   "cell_type": "code",
   "execution_count": 36,
   "metadata": {},
   "outputs": [],
   "source": [
    "theft_over_2017_house = theft_over_2017_final.loc[['House']]"
   ]
  },
  {
   "cell_type": "code",
   "execution_count": 37,
   "metadata": {},
   "outputs": [],
   "source": [
    "# house theft 2017\n",
    "theft_2017_house_data = []\n",
    "\n",
    "for index, row in theft_over_2017_house.iterrows():\n",
    "    \n",
    "    data = go.Scattermapbox(\n",
    "            lat=[str(row['Y'])],\n",
    "            lon=[str(row['X'])],\n",
    "            mode='markers',\n",
    "            marker=dict(\n",
    "                size=8,\n",
    "                opacity= 0.6,\n",
    "                color = 'red'\n",
    "            ),\n",
    "            \n",
    "            name=row['Neighbourhood'],\n",
    "            text=row['Neighbourhood'] # pending disctrict name\n",
    "        )\n",
    "    \n",
    "    theft_2017_house_data.append(data)"
   ]
  },
  {
   "cell_type": "code",
   "execution_count": 39,
   "metadata": {},
   "outputs": [
    {
     "data": {
      "text/html": [
       "<iframe id=\"igraph\" scrolling=\"no\" style=\"border:none;\" seamless=\"seamless\" src=\"https://plot.ly/~wangdian/18.embed\" height=\"525px\" width=\"100%\"></iframe>"
      ],
      "text/plain": [
       "<plotly.tools.PlotlyDisplay object>"
      ]
     },
     "execution_count": 39,
     "metadata": {},
     "output_type": "execute_result"
    }
   ],
   "source": [
    "fig = dict(data=theft_2017_house_data, layout=layout)\n",
    "py.iplot(fig, filename='Toronto Theft Over Plot 2017 house')"
   ]
  },
  {
   "cell_type": "code",
   "execution_count": 45,
   "metadata": {},
   "outputs": [],
   "source": [
    "theft_over_2017_apartment = theft_over_2017_final.loc[['Apartment']]"
   ]
  },
  {
   "cell_type": "code",
   "execution_count": 46,
   "metadata": {},
   "outputs": [],
   "source": [
    "# apartment theft 2017\n",
    "theft_2017_apartment_data = []\n",
    "\n",
    "for index, row in theft_over_2017_apartment.iterrows():\n",
    "    \n",
    "    data = go.Scattermapbox(\n",
    "            lat=[str(row['Y'])],\n",
    "            lon=[str(row['X'])],\n",
    "            mode='markers',\n",
    "            marker=dict(\n",
    "                size=8,\n",
    "                opacity= 0.6,\n",
    "                color = 'green'\n",
    "            ),\n",
    "            \n",
    "            name=row['Neighbourhood'],\n",
    "            text=row['Neighbourhood'] # pending disctrict name\n",
    "        )\n",
    "    \n",
    "    theft_2017_apartment_data.append(data)"
   ]
  },
  {
   "cell_type": "code",
   "execution_count": 47,
   "metadata": {},
   "outputs": [
    {
     "data": {
      "text/html": [
       "<iframe id=\"igraph\" scrolling=\"no\" style=\"border:none;\" seamless=\"seamless\" src=\"https://plot.ly/~wangdian/20.embed\" height=\"525px\" width=\"100%\"></iframe>"
      ],
      "text/plain": [
       "<plotly.tools.PlotlyDisplay object>"
      ]
     },
     "execution_count": 47,
     "metadata": {},
     "output_type": "execute_result"
    }
   ],
   "source": [
    "fig = dict(data=theft_2017_apartment_data, layout=layout)\n",
    "py.iplot(fig, filename='Toronto Theft Over Plot 2017 apartment')"
   ]
  },
  {
   "cell_type": "code",
   "execution_count": null,
   "metadata": {},
   "outputs": [],
   "source": []
  }
 ],
 "metadata": {
  "kernelspec": {
   "display_name": "Python 3",
   "language": "python",
   "name": "python3"
  },
  "language_info": {
   "codemirror_mode": {
    "name": "ipython",
    "version": 3
   },
   "file_extension": ".py",
   "mimetype": "text/x-python",
   "name": "python",
   "nbconvert_exporter": "python",
   "pygments_lexer": "ipython3",
   "version": "3.6.5"
  }
 },
 "nbformat": 4,
 "nbformat_minor": 2
}
