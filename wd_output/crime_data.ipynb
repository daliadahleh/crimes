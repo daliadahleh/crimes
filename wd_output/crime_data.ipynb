{
 "cells": [
  {
   "cell_type": "code",
   "execution_count": 1,
   "metadata": {
    "collapsed": true
   },
   "outputs": [],
   "source": [
    "%matplotlib inline\n",
    "import pandas as pd\n",
    "import matplotlib.pyplot as plt"
   ]
  },
  {
   "cell_type": "code",
   "execution_count": 2,
   "metadata": {},
   "outputs": [
    {
     "data": {
      "text/html": [
       "<div>\n",
       "<style scoped>\n",
       "    .dataframe tbody tr th:only-of-type {\n",
       "        vertical-align: middle;\n",
       "    }\n",
       "\n",
       "    .dataframe tbody tr th {\n",
       "        vertical-align: top;\n",
       "    }\n",
       "\n",
       "    .dataframe thead th {\n",
       "        text-align: right;\n",
       "    }\n",
       "</style>\n",
       "<table border=\"1\" class=\"dataframe\">\n",
       "  <thead>\n",
       "    <tr style=\"text-align: right;\">\n",
       "      <th></th>\n",
       "      <th>Unnamed: 0</th>\n",
       "      <th>Hood_ID</th>\n",
       "      <th>Index_</th>\n",
       "      <th>MCI</th>\n",
       "      <th>Neighbourhood</th>\n",
       "      <th>event_unique_id</th>\n",
       "      <th>occurrencedate</th>\n",
       "      <th>occurrenceday</th>\n",
       "      <th>occurrencedayofweek</th>\n",
       "      <th>occurrencedayofyear</th>\n",
       "      <th>occurrencehour</th>\n",
       "      <th>occurrencemonth</th>\n",
       "      <th>occurrenceyear</th>\n",
       "      <th>offence</th>\n",
       "      <th>premisetype</th>\n",
       "    </tr>\n",
       "  </thead>\n",
       "  <tbody>\n",
       "    <tr>\n",
       "      <th>0</th>\n",
       "      <td>0</td>\n",
       "      <td>84</td>\n",
       "      <td>976</td>\n",
       "      <td>Assault</td>\n",
       "      <td>Little Portugal (84)</td>\n",
       "      <td>GO-2015942420</td>\n",
       "      <td>1388552400000</td>\n",
       "      <td>1</td>\n",
       "      <td>Wednesday</td>\n",
       "      <td>1</td>\n",
       "      <td>0</td>\n",
       "      <td>January</td>\n",
       "      <td>2014</td>\n",
       "      <td>Assault</td>\n",
       "      <td>Apartment</td>\n",
       "    </tr>\n",
       "    <tr>\n",
       "      <th>1</th>\n",
       "      <td>1</td>\n",
       "      <td>25</td>\n",
       "      <td>977</td>\n",
       "      <td>Assault</td>\n",
       "      <td>Glenfield-Jane Heights (25)</td>\n",
       "      <td>GO-20162295518</td>\n",
       "      <td>1388552400000</td>\n",
       "      <td>1</td>\n",
       "      <td>Wednesday</td>\n",
       "      <td>1</td>\n",
       "      <td>0</td>\n",
       "      <td>January</td>\n",
       "      <td>2014</td>\n",
       "      <td>Assault</td>\n",
       "      <td>Apartment</td>\n",
       "    </tr>\n",
       "    <tr>\n",
       "      <th>2</th>\n",
       "      <td>2</td>\n",
       "      <td>71</td>\n",
       "      <td>978</td>\n",
       "      <td>Assault</td>\n",
       "      <td>Cabbagetown-South St.James Town (71)</td>\n",
       "      <td>GO-20142458487</td>\n",
       "      <td>1388552400000</td>\n",
       "      <td>1</td>\n",
       "      <td>Wednesday</td>\n",
       "      <td>1</td>\n",
       "      <td>0</td>\n",
       "      <td>January</td>\n",
       "      <td>2014</td>\n",
       "      <td>Assault</td>\n",
       "      <td>Apartment</td>\n",
       "    </tr>\n",
       "    <tr>\n",
       "      <th>3</th>\n",
       "      <td>3</td>\n",
       "      <td>71</td>\n",
       "      <td>979</td>\n",
       "      <td>Assault</td>\n",
       "      <td>Cabbagetown-South St.James Town (71)</td>\n",
       "      <td>GO-20142458487</td>\n",
       "      <td>1388552400000</td>\n",
       "      <td>1</td>\n",
       "      <td>Wednesday</td>\n",
       "      <td>1</td>\n",
       "      <td>0</td>\n",
       "      <td>January</td>\n",
       "      <td>2014</td>\n",
       "      <td>Assault</td>\n",
       "      <td>Apartment</td>\n",
       "    </tr>\n",
       "    <tr>\n",
       "      <th>4</th>\n",
       "      <td>4</td>\n",
       "      <td>58</td>\n",
       "      <td>980</td>\n",
       "      <td>Theft Over</td>\n",
       "      <td>Old East York (58)</td>\n",
       "      <td>GO-20141573896</td>\n",
       "      <td>1388552400000</td>\n",
       "      <td>1</td>\n",
       "      <td>Wednesday</td>\n",
       "      <td>1</td>\n",
       "      <td>0</td>\n",
       "      <td>January</td>\n",
       "      <td>2014</td>\n",
       "      <td>Theft Over</td>\n",
       "      <td>House</td>\n",
       "    </tr>\n",
       "  </tbody>\n",
       "</table>\n",
       "</div>"
      ],
      "text/plain": [
       "   Unnamed: 0  Hood_ID  Index_         MCI  \\\n",
       "0           0       84     976     Assault   \n",
       "1           1       25     977     Assault   \n",
       "2           2       71     978     Assault   \n",
       "3           3       71     979     Assault   \n",
       "4           4       58     980  Theft Over   \n",
       "\n",
       "                          Neighbourhood event_unique_id  occurrencedate  \\\n",
       "0                  Little Portugal (84)   GO-2015942420   1388552400000   \n",
       "1           Glenfield-Jane Heights (25)  GO-20162295518   1388552400000   \n",
       "2  Cabbagetown-South St.James Town (71)  GO-20142458487   1388552400000   \n",
       "3  Cabbagetown-South St.James Town (71)  GO-20142458487   1388552400000   \n",
       "4                    Old East York (58)  GO-20141573896   1388552400000   \n",
       "\n",
       "   occurrenceday occurrencedayofweek  occurrencedayofyear  occurrencehour  \\\n",
       "0              1          Wednesday                     1               0   \n",
       "1              1          Wednesday                     1               0   \n",
       "2              1          Wednesday                     1               0   \n",
       "3              1          Wednesday                     1               0   \n",
       "4              1          Wednesday                     1               0   \n",
       "\n",
       "  occurrencemonth  occurrenceyear     offence premisetype  \n",
       "0         January            2014     Assault   Apartment  \n",
       "1         January            2014     Assault   Apartment  \n",
       "2         January            2014     Assault   Apartment  \n",
       "3         January            2014     Assault   Apartment  \n",
       "4         January            2014  Theft Over       House  "
      ]
     },
     "execution_count": 2,
     "metadata": {},
     "output_type": "execute_result"
    }
   ],
   "source": [
    "path = 'data/crimes_csv.csv'\n",
    "#import data to df\n",
    "df = pd.read_csv(path)\n",
    "\n",
    "hood_id = df['Hood_ID'].unique()\n",
    "df.head()"
   ]
  },
  {
   "cell_type": "code",
   "execution_count": 3,
   "metadata": {},
   "outputs": [
    {
     "data": {
      "text/plain": [
       "array([2014, 2015, 2016, 2017])"
      ]
     },
     "execution_count": 3,
     "metadata": {},
     "output_type": "execute_result"
    }
   ],
   "source": [
    "#check data types\n",
    "df['occurrenceyear'].unique()"
   ]
  },
  {
   "cell_type": "code",
   "execution_count": 5,
   "metadata": {},
   "outputs": [
    {
     "data": {
      "image/png": "[encoded data removed]",
      "text/plain": [
       "<matplotlib.figure.Figure at 0x108ecc748>"
      ]
     },
     "metadata": {},
     "output_type": "display_data"
    }
   ],
   "source": [
    "plt.bar(df['occurrenceyear'].unique(), df.groupby('occurrenceyear')['occurrenceyear'].count())\n",
    "plt.title('Crime Increase in Toronto from 2014 to 2017')\n",
    "plt.xlabel('Year')\n",
    "plt.ylabel('Crime Number')\n",
    "plt.savefig('graph/Crime_Toronto_from_2014_to_2017.png')"
   ]
  },
  {
   "cell_type": "code",
   "execution_count": 12,
   "metadata": {},
   "outputs": [
    {
     "data": {
      "text/plain": [
       "Assault                           48470\n",
       "B&E                               22771\n",
       "Theft Of Motor Vehicle            13435\n",
       "Assault With Weapon               11433\n",
       "Robbery - Mugging                  4866\n",
       "B&E W'Intent                       3618\n",
       "Assault Bodily Harm                3402\n",
       "Theft Over                         2363\n",
       "Robbery - Other                    2361\n",
       "Robbery With Weapon                2301\n",
       "Assault Peace Officer              2162\n",
       "Assault - Resist/ Prevent Seiz     1570\n",
       "Robbery - Business                 1476\n",
       "Robbery - Swarming                 1403\n",
       "Aggravated Assault                 1241\n",
       "Theft From Motor Vehicle Over       965\n",
       "Unlawfully In Dwelling-House        832\n",
       "Discharge Firearm With Intent       830\n",
       "Robbery - Purse Snatch              602\n",
       "Robbery - Home Invasion             596\n",
       "Discharge Firearm - Recklessly      492\n",
       "Theft From Mail / Bag / Key         445\n",
       "Pointing A Firearm                  443\n",
       "Robbery - Financial Institute       440\n",
       "Theft Over - Shoplifting            216\n",
       "Assault Peace Officer Wpn/Cbh       190\n",
       "Administering Noxious Thing         183\n",
       "Assault - Force/Thrt/Impede         175\n",
       "Robbery - Vehicle Jacking           166\n",
       "Robbery - Taxi                      159\n",
       "Robbery - Delivery Person           112\n",
       "Use Firearm / Immit Commit Off       81\n",
       "Theft Over - Bicycle                 58\n",
       "Crim Negligence Bodily Harm          57\n",
       "Robbery - Atm                        47\n",
       "Disarming Peace/Public Officer       44\n",
       "B&E Out                              43\n",
       "Theft Over - Distraction             35\n",
       "Robbery - Armoured Car               20\n",
       "Air Gun Or Pistol: Bodily Harm       15\n",
       "Aggravated Aslt Peace Officer        11\n",
       "Theft - Misapprop Funds Over         11\n",
       "Aggravated Assault Avails Pros       10\n",
       "Unlawfully Causing Bodily Harm        6\n",
       "B&E - To Steal Firearm                5\n",
       "Theft Of Utilities Over               4\n",
       "Set/Place Trap/Intend Death/Bh        1\n",
       "Traps Likely Cause Bodily Harm        1\n",
       "Name: offence, dtype: int64"
      ]
     },
     "execution_count": 12,
     "metadata": {},
     "output_type": "execute_result"
    }
   ],
   "source": [
    "df['offence'].value_counts()"
   ]
  },
  {
   "cell_type": "code",
   "execution_count": 15,
   "metadata": {},
   "outputs": [
    {
     "data": {
      "text/plain": [
       "<Container object of 48 artists>"
      ]
     },
     "execution_count": 15,
     "metadata": {},
     "output_type": "execute_result"
    },
    {
     "data": {
      "image/png": "[encoded data removed]",
      "text/plain": [
       "<matplotlib.figure.Figure at 0x10df77ef0>"
      ]
     },
     "metadata": {},
     "output_type": "display_data"
    }
   ],
   "source": [
    "plt.bar(df['offence'].unique(), df.groupby('offence')['offence'].count(), width=7)"
   ]
  },
  {
   "cell_type": "code",
   "execution_count": 28,
   "metadata": {},
   "outputs": [
    {
     "data": {
      "image/png": "[encoded data removed]",
      "text/plain": [
       "<matplotlib.figure.Figure at 0x10e3a5630>"
      ]
     },
     "metadata": {},
     "output_type": "display_data"
    }
   ],
   "source": [
    "fig, ax = plt.subplots()\n",
    "\n",
    "index_year = df['occurrenceyear'].unique()\n",
    "bar_width = 0.35\n",
    "\n",
    "result1 = ax.bar(\n",
    "    index_year, \n",
    "    df.loc[df['offence'] == 'Assault'].groupby('occurrenceyear')['offence'].count(),\n",
    "    bar_width\n",
    ")"
   ]
  },
  {
   "cell_type": "code",
   "execution_count": 27,
   "metadata": {},
   "outputs": [
    {
     "data": {
      "text/html": [
       "<div>\n",
       "<style scoped>\n",
       "    .dataframe tbody tr th:only-of-type {\n",
       "        vertical-align: middle;\n",
       "    }\n",
       "\n",
       "    .dataframe tbody tr th {\n",
       "        vertical-align: top;\n",
       "    }\n",
       "\n",
       "    .dataframe thead th {\n",
       "        text-align: right;\n",
       "    }\n",
       "</style>\n",
       "<table border=\"1\" class=\"dataframe\">\n",
       "  <thead>\n",
       "    <tr style=\"text-align: right;\">\n",
       "      <th></th>\n",
       "      <th>Unnamed: 0</th>\n",
       "      <th>Hood_ID</th>\n",
       "      <th>Index_</th>\n",
       "      <th>MCI</th>\n",
       "      <th>Neighbourhood</th>\n",
       "      <th>event_unique_id</th>\n",
       "      <th>occurrencedate</th>\n",
       "      <th>occurrenceday</th>\n",
       "      <th>occurrencedayofweek</th>\n",
       "      <th>occurrencedayofyear</th>\n",
       "      <th>occurrencehour</th>\n",
       "      <th>occurrencemonth</th>\n",
       "      <th>offence</th>\n",
       "      <th>premisetype</th>\n",
       "    </tr>\n",
       "    <tr>\n",
       "      <th>occurrenceyear</th>\n",
       "      <th></th>\n",
       "      <th></th>\n",
       "      <th></th>\n",
       "      <th></th>\n",
       "      <th></th>\n",
       "      <th></th>\n",
       "      <th></th>\n",
       "      <th></th>\n",
       "      <th></th>\n",
       "      <th></th>\n",
       "      <th></th>\n",
       "      <th></th>\n",
       "      <th></th>\n",
       "      <th></th>\n",
       "    </tr>\n",
       "  </thead>\n",
       "  <tbody>\n",
       "    <tr>\n",
       "      <th>2014</th>\n",
       "      <td>11506</td>\n",
       "      <td>11506</td>\n",
       "      <td>11506</td>\n",
       "      <td>11506</td>\n",
       "      <td>11506</td>\n",
       "      <td>11506</td>\n",
       "      <td>11506</td>\n",
       "      <td>11506</td>\n",
       "      <td>11506</td>\n",
       "      <td>11506</td>\n",
       "      <td>11506</td>\n",
       "      <td>11506</td>\n",
       "      <td>11506</td>\n",
       "      <td>11506</td>\n",
       "    </tr>\n",
       "    <tr>\n",
       "      <th>2015</th>\n",
       "      <td>11980</td>\n",
       "      <td>11980</td>\n",
       "      <td>11980</td>\n",
       "      <td>11980</td>\n",
       "      <td>11980</td>\n",
       "      <td>11980</td>\n",
       "      <td>11980</td>\n",
       "      <td>11980</td>\n",
       "      <td>11980</td>\n",
       "      <td>11980</td>\n",
       "      <td>11980</td>\n",
       "      <td>11980</td>\n",
       "      <td>11980</td>\n",
       "      <td>11980</td>\n",
       "    </tr>\n",
       "    <tr>\n",
       "      <th>2016</th>\n",
       "      <td>12443</td>\n",
       "      <td>12443</td>\n",
       "      <td>12443</td>\n",
       "      <td>12443</td>\n",
       "      <td>12443</td>\n",
       "      <td>12443</td>\n",
       "      <td>12443</td>\n",
       "      <td>12443</td>\n",
       "      <td>12443</td>\n",
       "      <td>12443</td>\n",
       "      <td>12443</td>\n",
       "      <td>12443</td>\n",
       "      <td>12443</td>\n",
       "      <td>12443</td>\n",
       "    </tr>\n",
       "    <tr>\n",
       "      <th>2017</th>\n",
       "      <td>12541</td>\n",
       "      <td>12541</td>\n",
       "      <td>12541</td>\n",
       "      <td>12541</td>\n",
       "      <td>12541</td>\n",
       "      <td>12541</td>\n",
       "      <td>12541</td>\n",
       "      <td>12541</td>\n",
       "      <td>12541</td>\n",
       "      <td>12541</td>\n",
       "      <td>12541</td>\n",
       "      <td>12541</td>\n",
       "      <td>12541</td>\n",
       "      <td>12541</td>\n",
       "    </tr>\n",
       "  </tbody>\n",
       "</table>\n",
       "</div>"
      ],
      "text/plain": [
       "                Unnamed: 0  Hood_ID  Index_    MCI  Neighbourhood  \\\n",
       "occurrenceyear                                                      \n",
       "2014                 11506    11506   11506  11506          11506   \n",
       "2015                 11980    11980   11980  11980          11980   \n",
       "2016                 12443    12443   12443  12443          12443   \n",
       "2017                 12541    12541   12541  12541          12541   \n",
       "\n",
       "                event_unique_id  occurrencedate  occurrenceday  \\\n",
       "occurrenceyear                                                   \n",
       "2014                      11506           11506          11506   \n",
       "2015                      11980           11980          11980   \n",
       "2016                      12443           12443          12443   \n",
       "2017                      12541           12541          12541   \n",
       "\n",
       "                occurrencedayofweek  occurrencedayofyear  occurrencehour  \\\n",
       "occurrenceyear                                                             \n",
       "2014                          11506                11506           11506   \n",
       "2015                          11980                11980           11980   \n",
       "2016                          12443                12443           12443   \n",
       "2017                          12541                12541           12541   \n",
       "\n",
       "                occurrencemonth  offence  premisetype  \n",
       "occurrenceyear                                         \n",
       "2014                      11506    11506        11506  \n",
       "2015                      11980    11980        11980  \n",
       "2016                      12443    12443        12443  \n",
       "2017                      12541    12541        12541  "
      ]
     },
     "execution_count": 27,
     "metadata": {},
     "output_type": "execute_result"
    }
   ],
   "source": [
    "df.loc[df['offence'] == 'Assault'].groupby('occurrenceyear').count()"
   ]
  },
  {
   "cell_type": "code",
   "execution_count": null,
   "metadata": {
    "collapsed": true
   },
   "outputs": [],
   "source": []
  },
  {
   "cell_type": "code",
   "execution_count": null,
   "metadata": {
    "collapsed": true
   },
   "outputs": [],
   "source": []
  }
 ],
 "metadata": {
  "kernelspec": {
   "display_name": "Python 3",
   "language": "python",
   "name": "python3"
  },
  "language_info": {
   "codemirror_mode": {
    "name": "ipython",
    "version": 3
   },
   "file_extension": ".py",
   "mimetype": "text/x-python",
   "name": "python",
   "nbconvert_exporter": "python",
   "pygments_lexer": "ipython3",
   "version": "3.6.3"
  }
 },
 "nbformat": 4,
 "nbformat_minor": 2
}
