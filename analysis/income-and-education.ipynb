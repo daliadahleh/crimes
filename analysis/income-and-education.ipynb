{
 "cells": [
  {
   "cell_type": "markdown",
   "metadata": {},
   "source": [
    "## Toronto Crime Analysis"
   ]
  },
  {
   "cell_type": "code",
   "execution_count": 1,
   "metadata": {},
   "outputs": [],
   "source": [
    "%matplotlib notebook"
   ]
  },
  {
   "cell_type": "code",
   "execution_count": 2,
   "metadata": {},
   "outputs": [],
   "source": [
    "import requests\n",
    "import json\n",
    "import numpy as np\n",
    "import pandas as pd\n",
    "from matplotlib import pyplot as plt\n",
    "from pprint import pprint\n",
    "from pandas.io.json import json_normalize\n",
    "from IPython.display import clear_output\n",
    "from scipy import stats"
   ]
  },
  {
   "cell_type": "code",
   "execution_count": 3,
   "metadata": {},
   "outputs": [],
   "source": [
    "education = pd.read_csv('../output/crimes_with_education.csv')\n",
    "income = pd.read_csv('../output/crimes_with_income.csv')"
   ]
  },
  {
   "cell_type": "code",
   "execution_count": 4,
   "metadata": {},
   "outputs": [
    {
     "data": {
      "text/html": [
       "<div>\n",
       "<style scoped>\n",
       "    .dataframe tbody tr th:only-of-type {\n",
       "        vertical-align: middle;\n",
       "    }\n",
       "\n",
       "    .dataframe tbody tr th {\n",
       "        vertical-align: top;\n",
       "    }\n",
       "\n",
       "    .dataframe thead th {\n",
       "        text-align: right;\n",
       "    }\n",
       "</style>\n",
       "<table border=\"1\" class=\"dataframe\">\n",
       "  <thead>\n",
       "    <tr style=\"text-align: right;\">\n",
       "      <th></th>\n",
       "      <th>hood_id</th>\n",
       "      <th>Assault_x</th>\n",
       "      <th>Auto Theft_x</th>\n",
       "      <th>Break and Enter_x</th>\n",
       "      <th>Robbery_x</th>\n",
       "      <th>Theft Over_x</th>\n",
       "      <th>No Degree %</th>\n",
       "      <th>Highschool %</th>\n",
       "      <th>Post-secondary %</th>\n",
       "      <th>Assault_y</th>\n",
       "      <th>Auto Theft_y</th>\n",
       "      <th>Break and Enter_y</th>\n",
       "      <th>Robbery_y</th>\n",
       "      <th>Theft Over_y</th>\n",
       "      <th>Average Income</th>\n",
       "    </tr>\n",
       "  </thead>\n",
       "  <tbody>\n",
       "    <tr>\n",
       "      <th>0</th>\n",
       "      <td>1</td>\n",
       "      <td>1082</td>\n",
       "      <td>1181</td>\n",
       "      <td>503</td>\n",
       "      <td>306</td>\n",
       "      <td>192</td>\n",
       "      <td>21.711624</td>\n",
       "      <td>30.942861</td>\n",
       "      <td>47.345515</td>\n",
       "      <td>1082</td>\n",
       "      <td>1181</td>\n",
       "      <td>503</td>\n",
       "      <td>306</td>\n",
       "      <td>192</td>\n",
       "      <td>31138.833333</td>\n",
       "    </tr>\n",
       "    <tr>\n",
       "      <th>1</th>\n",
       "      <td>2</td>\n",
       "      <td>1048</td>\n",
       "      <td>217</td>\n",
       "      <td>140</td>\n",
       "      <td>387</td>\n",
       "      <td>14</td>\n",
       "      <td>30.363227</td>\n",
       "      <td>30.199156</td>\n",
       "      <td>39.437617</td>\n",
       "      <td>1048</td>\n",
       "      <td>217</td>\n",
       "      <td>140</td>\n",
       "      <td>387</td>\n",
       "      <td>14</td>\n",
       "      <td>26815.000000</td>\n",
       "    </tr>\n",
       "    <tr>\n",
       "      <th>2</th>\n",
       "      <td>3</td>\n",
       "      <td>225</td>\n",
       "      <td>62</td>\n",
       "      <td>86</td>\n",
       "      <td>92</td>\n",
       "      <td>10</td>\n",
       "      <td>24.651538</td>\n",
       "      <td>27.933076</td>\n",
       "      <td>47.415387</td>\n",
       "      <td>225</td>\n",
       "      <td>62</td>\n",
       "      <td>86</td>\n",
       "      <td>92</td>\n",
       "      <td>10</td>\n",
       "      <td>32880.500000</td>\n",
       "    </tr>\n",
       "    <tr>\n",
       "      <th>3</th>\n",
       "      <td>4</td>\n",
       "      <td>285</td>\n",
       "      <td>83</td>\n",
       "      <td>62</td>\n",
       "      <td>75</td>\n",
       "      <td>4</td>\n",
       "      <td>22.421935</td>\n",
       "      <td>30.246291</td>\n",
       "      <td>47.331774</td>\n",
       "      <td>285</td>\n",
       "      <td>83</td>\n",
       "      <td>62</td>\n",
       "      <td>75</td>\n",
       "      <td>4</td>\n",
       "      <td>34970.500000</td>\n",
       "    </tr>\n",
       "    <tr>\n",
       "      <th>4</th>\n",
       "      <td>5</td>\n",
       "      <td>246</td>\n",
       "      <td>59</td>\n",
       "      <td>56</td>\n",
       "      <td>78</td>\n",
       "      <td>5</td>\n",
       "      <td>25.276329</td>\n",
       "      <td>33.990772</td>\n",
       "      <td>40.732899</td>\n",
       "      <td>246</td>\n",
       "      <td>59</td>\n",
       "      <td>56</td>\n",
       "      <td>78</td>\n",
       "      <td>5</td>\n",
       "      <td>31303.500000</td>\n",
       "    </tr>\n",
       "  </tbody>\n",
       "</table>\n",
       "</div>"
      ],
      "text/plain": [
       "   hood_id  Assault_x  Auto Theft_x  Break and Enter_x  Robbery_x  \\\n",
       "0        1       1082          1181                503        306   \n",
       "1        2       1048           217                140        387   \n",
       "2        3        225            62                 86         92   \n",
       "3        4        285            83                 62         75   \n",
       "4        5        246            59                 56         78   \n",
       "\n",
       "   Theft Over_x  No Degree %  Highschool %  Post-secondary %  Assault_y  \\\n",
       "0           192    21.711624     30.942861         47.345515       1082   \n",
       "1            14    30.363227     30.199156         39.437617       1048   \n",
       "2            10    24.651538     27.933076         47.415387        225   \n",
       "3             4    22.421935     30.246291         47.331774        285   \n",
       "4             5    25.276329     33.990772         40.732899        246   \n",
       "\n",
       "   Auto Theft_y  Break and Enter_y  Robbery_y  Theft Over_y  Average Income  \n",
       "0          1181                503        306           192    31138.833333  \n",
       "1           217                140        387            14    26815.000000  \n",
       "2            62                 86         92            10    32880.500000  \n",
       "3            83                 62         75             4    34970.500000  \n",
       "4            59                 56         78             5    31303.500000  "
      ]
     },
     "execution_count": 4,
     "metadata": {},
     "output_type": "execute_result"
    }
   ],
   "source": [
    "income_edu = pd.merge(education,income,on='hood_id')\n",
    "income_edu.head()"
   ]
  },
  {
   "cell_type": "code",
   "execution_count": 5,
   "metadata": {},
   "outputs": [
    {
     "name": "stderr",
     "output_type": "stream",
     "text": [
      "/anaconda3/lib/python3.7/site-packages/matplotlib/legend.py:937: UserWarning: Legend does not support 'data' instances.\n",
      "A proxy artist may be used instead.\n",
      "See: http://matplotlib.org/users/legend_guide.html#creating-artists-specifically-for-adding-to-the-legend-aka-proxy-artists\n",
      "  \"aka-proxy-artists\".format(orig_handle)\n",
      "/anaconda3/lib/python3.7/site-packages/matplotlib/legend.py:937: UserWarning: Legend does not support 'line-regression' instances.\n",
      "A proxy artist may be used instead.\n",
      "See: http://matplotlib.org/users/legend_guide.html#creating-artists-specifically-for-adding-to-the-legend-aka-proxy-artists\n",
      "  \"aka-proxy-artists\".format(orig_handle)\n"
     ]
    },
    {
     "data": {
      "image/png": "[encoded data removed]",
      "text/plain": [
       "<Figure size 432x288 with 1 Axes>"
      ]
     },
     "metadata": {
      "needs_background": "light"
     },
     "output_type": "display_data"
    }
   ],
   "source": [
    "x = income_edu['Post-secondary %']\n",
    "y = income_edu['Average Income']\n",
    "\n",
    "plt.scatter(x,y)\n",
    "plt.ylim(20000,150000)\n",
    "plt.title('Income vs. Education')\n",
    "plt.xlabel('Percentage of people with a post-secondary degree')\n",
    "plt.ylabel('Average yearly gross income (CAD)')\n",
    "\n",
    "slope, intercept, r_value, p_value, std_err = stats.linregress(x,y)\n",
    "plt.plot(x,intercept + slope*x)   \n",
    "plt.legend(('data', 'line-regression'), 'upper left')\n",
    "plt.savefig('../output/crimes-vs-education')"
   ]
  },
  {
   "cell_type": "code",
   "execution_count": null,
   "metadata": {},
   "outputs": [],
   "source": []
  }
 ],
 "metadata": {
  "kernelspec": {
   "display_name": "Python 3",
   "language": "python",
   "name": "python3"
  },
  "language_info": {
   "codemirror_mode": {
    "name": "ipython",
    "version": 3
   },
   "file_extension": ".py",
   "mimetype": "text/x-python",
   "name": "python",
   "nbconvert_exporter": "python",
   "pygments_lexer": "ipython3",
   "version": "3.7.0"
  }
 },
 "nbformat": 4,
 "nbformat_minor": 2
}
